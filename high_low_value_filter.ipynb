{
 "cells": [
  {
   "cell_type": "code",
   "execution_count": 1,
   "id": "1ee36e41",
   "metadata": {},
   "outputs": [
    {
     "name": "stderr",
     "output_type": "stream",
     "text": [
      "/tmp/ipykernel_1383335/2519447265.py:1: DeprecationWarning: \n",
      "Pyarrow will become a required dependency of pandas in the next major release of pandas (pandas 3.0),\n",
      "(to allow more performant data types, such as the Arrow string type, and better interoperability with other libraries)\n",
      "but was not found to be installed on your system.\n",
      "If this would cause problems for you,\n",
      "please provide us feedback at https://github.com/pandas-dev/pandas/issues/54466\n",
      "        \n",
      "  import pandas as pd\n"
     ]
    }
   ],
   "source": [
    "import pandas as pd\n",
    "import numpy as np\n",
    "import matplotlib.pyplot as plt\n",
    "import seaborn as sns\n",
    "\n",
    "import statsmodels.api as sm\n",
    "from statsmodels.formula.api import ols\n",
    "from statsmodels.stats.outliers_influence import OLSInfluence\n",
    "import os\n",
    "import pickle"
   ]
  },
  {
   "cell_type": "code",
   "execution_count": 2,
   "id": "d8951cbb",
   "metadata": {},
   "outputs": [],
   "source": [
    "wetchem_df = pd.read_csv(\"/home/tom/DSML125/inputFiles/uncleaned_wetchem.csv\")"
   ]
  },
  {
   "cell_type": "code",
   "execution_count": 3,
   "id": "222fa911",
   "metadata": {},
   "outputs": [
    {
     "data": {
      "text/plain": [
       "13997"
      ]
     },
     "execution_count": 3,
     "metadata": {},
     "output_type": "execute_result"
    }
   ],
   "source": [
    "len(wetchem_df.index.unique())"
   ]
  },
  {
   "cell_type": "code",
   "execution_count": 4,
   "id": "1e881d7b",
   "metadata": {},
   "outputs": [
    {
     "data": {
      "text/plain": [
       "Index(['Unnamed: 0', 'sample_code', 'ph', 'calcium'], dtype='object')"
      ]
     },
     "execution_count": 4,
     "metadata": {},
     "output_type": "execute_result"
    }
   ],
   "source": [
    "wetchem_df.columns"
   ]
  },
  {
   "cell_type": "code",
   "execution_count": null,
   "id": "0911ad92",
   "metadata": {
    "scrolled": true
   },
   "outputs": [],
   "source": []
  },
  {
   "cell_type": "code",
   "execution_count": 5,
   "id": "ea8793e5",
   "metadata": {},
   "outputs": [],
   "source": [
    "def cooks_distance_outliers(column): \n",
    "#     x = wetchem_df.dropna(subset=[column])[column].values\n",
    "#     samples = wetchem_df.dropna(subset=[column])[\"sample_code\"].values\n",
    "# #     x.sort()\n",
    "#     y = []\n",
    "#     count = 0\n",
    "#     for i in x:\n",
    "#         y.append(count)\n",
    "#         count+=1\n",
    "#     f = 'x ~ y'\n",
    "#     df = pd.DataFrame({\"x\":x, \"y\":y, \"sample_code\": samples})\n",
    "#     model = ols(formula=f, data=df).fit()\n",
    "\n",
    "#     cook_distance = OLSInfluence(model).cooks_distance\n",
    "#     (distance, p_value) = cook_distance\n",
    "#     df['distance'] = distance\n",
    "#     mean_cooks_dist = df[\"distance\"].mean()\n",
    "    \n",
    "    \n",
    "#     outliers = df.loc[df[\"distance\"] > 3*(mean_cooks_dist)]\n",
    "#     outliers = outliers.rename(columns={\"x\": column})\n",
    "#     outliers.drop('y', axis=1,inplace=True)\n",
    "#     outliers.drop('distance', axis=1,inplace=True)\n",
    "    \n",
    "#     df_ = df.loc[df[\"distance\"] <= 3*(mean_cooks_dist)]\n",
    "#     df_ = df_.rename(columns={\"x\": column})\n",
    "    \n",
    "#     df.drop('y', axis=1,inplace=True)\n",
    "#     df.drop('distance', axis=1,inplace=True)\n",
    "    \n",
    "#     if(column == 'exchangeable_acidity' or column == 'clay'):\n",
    "#         _ = pd.DataFrame()\n",
    "#         _[column] = []\n",
    "        \n",
    "#         ex = wetchem_df.dropna(subset=[column])\n",
    "#         ex = ex[[column,'sample_code']]\n",
    "#         ex= ex.reset_index()\n",
    "#         print(ex.columns)\n",
    "# #         print(ex['exchangeable_acidity'].describe())\n",
    "#         return ex, _\n",
    "    \n",
    "    \n",
    "#     vals = list(df_[column].values)\n",
    "\n",
    "#     df_[column] = vals\n",
    "                \n",
    "    \n",
    "    return df_, outliers"
   ]
  },
  {
   "cell_type": "code",
   "execution_count": 6,
   "id": "edfd269b",
   "metadata": {},
   "outputs": [],
   "source": [
    "df_no_outliers = pd.DataFrame()\n",
    "df_cooks_outliers = pd.DataFrame()"
   ]
  },
  {
   "cell_type": "code",
   "execution_count": 7,
   "id": "7a18f793",
   "metadata": {},
   "outputs": [],
   "source": [
    "# cooks_distance_outliers(\"aluminium\")"
   ]
  },
  {
   "cell_type": "code",
   "execution_count": null,
   "id": "7c78cb3d",
   "metadata": {},
   "outputs": [],
   "source": []
  },
  {
   "cell_type": "code",
   "execution_count": 8,
   "id": "c1edcb97",
   "metadata": {
    "scrolled": true
   },
   "outputs": [],
   "source": [
    "# for col in wetchem_df.columns:\n",
    "#     if(col != 'sample_code'):\n",
    "#         print(col)\n",
    "#         no_cooks_outliers, cooks_outliers = cooks_distance_outliers(col)\n",
    "#         df_no_outliers = pd.concat([df_no_outliers,no_cooks_outliers[['sample_code', col]]], axis=0)\n",
    "#         df_cooks_outliers = pd.concat([df_cooks_outliers,cooks_outliers], axis=0)\n"
   ]
  },
  {
   "cell_type": "code",
   "execution_count": 9,
   "id": "ec96dd8d",
   "metadata": {},
   "outputs": [],
   "source": [
    "# df_no_outliers = df_no_outliers.groupby(\"sample_code\", sort=True).max()\n",
    "# df_cooks_outliers = df_cooks_outliers.groupby(\"sample_code\", sort=True).max()"
   ]
  },
  {
   "cell_type": "code",
   "execution_count": 10,
   "id": "bd3f1764",
   "metadata": {},
   "outputs": [],
   "source": [
    "# wetchem_df['exchangeable_acidity'].describe()"
   ]
  },
  {
   "cell_type": "code",
   "execution_count": 11,
   "id": "c61e84a1",
   "metadata": {},
   "outputs": [],
   "source": [
    "# df_no_outliers['exchangeable_acidity'].describe()"
   ]
  },
  {
   "cell_type": "markdown",
   "id": "f475d6f2",
   "metadata": {},
   "source": []
  },
  {
   "cell_type": "code",
   "execution_count": 12,
   "id": "db03a1c8",
   "metadata": {},
   "outputs": [],
   "source": [
    "# wetchem_df['clay'].describe()"
   ]
  },
  {
   "cell_type": "code",
   "execution_count": 13,
   "id": "243b84da",
   "metadata": {},
   "outputs": [],
   "source": [
    "# df_no_outliers.clay.describe()"
   ]
  },
  {
   "cell_type": "code",
   "execution_count": 14,
   "id": "42525089",
   "metadata": {},
   "outputs": [],
   "source": [
    "# df_cooks_outliers.loc[df_cooks_outliers.index == \"CC003SA0047\"]"
   ]
  },
  {
   "cell_type": "code",
   "execution_count": 15,
   "id": "fc2ebc94",
   "metadata": {},
   "outputs": [],
   "source": [
    "# df_no_outliers.replace(0.0, np.nan, inplace=True)\n",
    "# df_cooks_outliers.replace(0.0, np.nan, inplace=True)"
   ]
  },
  {
   "cell_type": "code",
   "execution_count": 16,
   "id": "db1843e3",
   "metadata": {},
   "outputs": [],
   "source": [
    "# df_cooks_outliers"
   ]
  },
  {
   "cell_type": "code",
   "execution_count": 17,
   "id": "aef83782",
   "metadata": {},
   "outputs": [],
   "source": [
    "# len(df_no_outliers.index)"
   ]
  },
  {
   "cell_type": "code",
   "execution_count": 18,
   "id": "492f359d",
   "metadata": {},
   "outputs": [],
   "source": [
    "# len(df_cooks_outliers.index)"
   ]
  },
  {
   "cell_type": "code",
   "execution_count": 19,
   "id": "ff1b23a1",
   "metadata": {},
   "outputs": [
    {
     "data": {
      "text/plain": [
       "143267"
      ]
     },
     "execution_count": 19,
     "metadata": {},
     "output_type": "execute_result"
    }
   ],
   "source": [
    "122009 + 21258"
   ]
  },
  {
   "cell_type": "code",
   "execution_count": 20,
   "id": "0dec42f8",
   "metadata": {},
   "outputs": [],
   "source": [
    "# \n",
    "# len(wetchem_df['sample_code'].unique())"
   ]
  },
  {
   "cell_type": "code",
   "execution_count": 21,
   "id": "b5af7672",
   "metadata": {},
   "outputs": [],
   "source": [
    "# df_cooks_outliers"
   ]
  },
  {
   "cell_type": "code",
   "execution_count": 22,
   "id": "71cce5a6",
   "metadata": {},
   "outputs": [],
   "source": [
    "# df_cooks_outliers.to_csv(\"outputFiles/outliers_cooks_distance.csv\")\n",
    "# df_no_outliers.to_csv(\"outputFiles/cleaned_data_cooks_distance.csv\")"
   ]
  },
  {
   "cell_type": "code",
   "execution_count": null,
   "id": "95e7d548",
   "metadata": {},
   "outputs": [],
   "source": []
  },
  {
   "cell_type": "code",
   "execution_count": 23,
   "id": "657f8f1e",
   "metadata": {},
   "outputs": [],
   "source": [
    "cooks_df_filtered = wetchem_df"
   ]
  },
  {
   "cell_type": "code",
   "execution_count": 24,
   "id": "fc6fd6d6",
   "metadata": {},
   "outputs": [],
   "source": [
    "# cooks_df_filtered['psi'].describe()"
   ]
  },
  {
   "cell_type": "code",
   "execution_count": null,
   "id": "3229b989",
   "metadata": {},
   "outputs": [],
   "source": []
  },
  {
   "cell_type": "code",
   "execution_count": null,
   "id": "02f18121",
   "metadata": {},
   "outputs": [],
   "source": []
  },
  {
   "cell_type": "code",
   "execution_count": 25,
   "id": "88ab8dda",
   "metadata": {},
   "outputs": [],
   "source": [
    "# wetchem_df = df_no_outliers"
   ]
  },
  {
   "cell_type": "code",
   "execution_count": 26,
   "id": "68296606",
   "metadata": {},
   "outputs": [],
   "source": [
    "# wetchem_df.psi.describe()"
   ]
  },
  {
   "cell_type": "code",
   "execution_count": 27,
   "id": "1d00fef9",
   "metadata": {},
   "outputs": [],
   "source": [
    "# wetchem_df"
   ]
  },
  {
   "cell_type": "code",
   "execution_count": null,
   "id": "cfddad24",
   "metadata": {},
   "outputs": [],
   "source": []
  },
  {
   "cell_type": "code",
   "execution_count": null,
   "id": "373aac5c",
   "metadata": {},
   "outputs": [],
   "source": []
  },
  {
   "cell_type": "code",
   "execution_count": null,
   "id": "8565c50c",
   "metadata": {},
   "outputs": [],
   "source": []
  },
  {
   "cell_type": "code",
   "execution_count": null,
   "id": "63991165",
   "metadata": {},
   "outputs": [],
   "source": []
  },
  {
   "cell_type": "code",
   "execution_count": null,
   "id": "25a109e4",
   "metadata": {},
   "outputs": [],
   "source": []
  },
  {
   "cell_type": "code",
   "execution_count": null,
   "id": "d320a26c",
   "metadata": {},
   "outputs": [],
   "source": []
  },
  {
   "cell_type": "code",
   "execution_count": null,
   "id": "dd9c7caf",
   "metadata": {},
   "outputs": [],
   "source": []
  },
  {
   "cell_type": "code",
   "execution_count": null,
   "id": "b6bee2d9",
   "metadata": {},
   "outputs": [],
   "source": []
  },
  {
   "cell_type": "code",
   "execution_count": null,
   "id": "2da0530c",
   "metadata": {},
   "outputs": [],
   "source": []
  },
  {
   "cell_type": "code",
   "execution_count": 28,
   "id": "e42ea7dc",
   "metadata": {},
   "outputs": [],
   "source": [
    "high_value_filter_df = pd.DataFrame()\n",
    "low_value_filter_df = pd.DataFrame()"
   ]
  },
  {
   "cell_type": "code",
   "execution_count": 29,
   "id": "86bf69f1",
   "metadata": {},
   "outputs": [],
   "source": [
    "all_chemicals = pd.read_csv(\"/home/tom/DSML125/inputFiles/modeling-instructions.csv\")['chemical'].values"
   ]
  },
  {
   "cell_type": "code",
   "execution_count": 30,
   "id": "c36993a1",
   "metadata": {},
   "outputs": [],
   "source": [
    "element_deviations = {}"
   ]
  },
  {
   "cell_type": "code",
   "execution_count": 31,
   "id": "41672884",
   "metadata": {},
   "outputs": [
    {
     "name": "stdout",
     "output_type": "stream",
     "text": [
      "{}\n"
     ]
    }
   ],
   "source": [
    "print(element_deviations)"
   ]
  },
  {
   "cell_type": "code",
   "execution_count": null,
   "id": "644fdc61",
   "metadata": {},
   "outputs": [],
   "source": []
  },
  {
   "cell_type": "code",
   "execution_count": 32,
   "id": "01be9be8",
   "metadata": {},
   "outputs": [],
   "source": [
    "def get_outliers(chemical):\n",
    "    upper = wetchem_df[chemical].quantile(0.95)\n",
    "    lower = wetchem_df[chemical].quantile(0.05)\n",
    "    \n",
    "    wetchem_data_copy = wetchem_df.copy()\n",
    "    wetchem_data_copy.dropna(inplace=True, subset=[chemical])\n",
    "    \n",
    "    upper_outliers = wetchem_df[wetchem_df[chemical] > upper]\n",
    "    lower_outliers = wetchem_df[wetchem_df[chemical] < lower]\n",
    "    no_outliers = wetchem_df[(wetchem_df[chemical] >= lower) & (wetchem_df[chemical] <= upper)]\n",
    "    \n",
    "    return lower_outliers, no_outliers, upper_outliers"
   ]
  },
  {
   "cell_type": "code",
   "execution_count": 33,
   "id": "9127ebfe",
   "metadata": {},
   "outputs": [],
   "source": [
    "def get_gaps(upper_outliers, lower_outliers, column):\n",
    "    gaps = []\n",
    "    element_deviations[column] = {}\n",
    "    for i in range(len(upper_outliers)-2):\n",
    "        if(upper_outliers[i+1] - upper_outliers[i] > 0):\n",
    "            gaps.append(upper_outliers[i+1] - upper_outliers[i])\n",
    "    upper_quartile_gap = abs(np.quantile(gaps,0.25))\n",
    "    element_deviations[column][\"upper_quartile_deviation\"] = upper_quartile_gap\n",
    "    for i in range(len(lower_outliers)-2):\n",
    "        if(lower_outliers[i+1] - lower_outliers[i] > 0):\n",
    "            gaps.append(lower_outliers[i+1] - lower_outliers[i])\n",
    "    lower_quartile_gap = abs(np.quantile(gaps,0.25))\n",
    "    element_deviations[column][\"lower_quartile_deviation\"] = lower_quartile_gap\n",
    "    return lower_quartile_gap, upper_quartile_gap"
   ]
  },
  {
   "cell_type": "code",
   "execution_count": null,
   "id": "10e998aa",
   "metadata": {},
   "outputs": [],
   "source": []
  },
  {
   "cell_type": "code",
   "execution_count": 34,
   "id": "810af7e2",
   "metadata": {},
   "outputs": [],
   "source": [
    "def _filter(outliers, gap_size, chemical, upper_or_lower):\n",
    "    print(chemical)\n",
    "    print(outliers[chemical])\n",
    "    if(len(outliers) == 0):\n",
    "        return wetchem_df[chemical]\n",
    "    values = np.sort(outliers[chemical].values)\n",
    "    print(gap_size)\n",
    "    if(upper_or_lower == \"lower\"):\n",
    "        values = values[::-1]\n",
    "    count = 0\n",
    "    for i,j in enumerate(values):\n",
    "        if(i == len(values)-1):\n",
    "            break\n",
    "        if( abs(values[i] - values[i+1]) > gap_size  ):\n",
    "            break\n",
    "        count = i\n",
    "    if(upper_or_lower == \"lower\"):\n",
    "        print(upper_or_lower)\n",
    "        cutoff = min(values[0:count])\n",
    "        return outliers.loc[outliers[chemical] >= cutoff], outliers.loc[outliers[chemical] < cutoff]\n",
    "    if(upper_or_lower == \"upper\"):\n",
    "        print(upper_or_lower)\n",
    "        cutoff = max(values[0:count])\n",
    "        return outliers.loc[outliers[chemical] <= cutoff], outliers.loc[outliers[chemical] > cutoff]"
   ]
  },
  {
   "cell_type": "code",
   "execution_count": 35,
   "id": "42334dfd",
   "metadata": {},
   "outputs": [
    {
     "data": {
      "text/html": [
       "<div>\n",
       "<style scoped>\n",
       "    .dataframe tbody tr th:only-of-type {\n",
       "        vertical-align: middle;\n",
       "    }\n",
       "\n",
       "    .dataframe tbody tr th {\n",
       "        vertical-align: top;\n",
       "    }\n",
       "\n",
       "    .dataframe thead th {\n",
       "        text-align: right;\n",
       "    }\n",
       "</style>\n",
       "<table border=\"1\" class=\"dataframe\">\n",
       "  <thead>\n",
       "    <tr style=\"text-align: right;\">\n",
       "      <th></th>\n",
       "      <th>Unnamed: 0</th>\n",
       "      <th>sample_code</th>\n",
       "      <th>ph</th>\n",
       "      <th>calcium</th>\n",
       "    </tr>\n",
       "  </thead>\n",
       "  <tbody>\n",
       "    <tr>\n",
       "      <th>0</th>\n",
       "      <td>0</td>\n",
       "      <td>AGD103SA0012</td>\n",
       "      <td>6.28</td>\n",
       "      <td>4230.0</td>\n",
       "    </tr>\n",
       "    <tr>\n",
       "      <th>1</th>\n",
       "      <td>1</td>\n",
       "      <td>AGD103SA0018</td>\n",
       "      <td>6.06</td>\n",
       "      <td>4230.0</td>\n",
       "    </tr>\n",
       "    <tr>\n",
       "      <th>2</th>\n",
       "      <td>2</td>\n",
       "      <td>AGD207-408SA0842</td>\n",
       "      <td>4.99</td>\n",
       "      <td>882.0</td>\n",
       "    </tr>\n",
       "    <tr>\n",
       "      <th>3</th>\n",
       "      <td>3</td>\n",
       "      <td>AGD207-408SA0843</td>\n",
       "      <td>4.74</td>\n",
       "      <td>758.0</td>\n",
       "    </tr>\n",
       "    <tr>\n",
       "      <th>4</th>\n",
       "      <td>4</td>\n",
       "      <td>AGD207-408SA0844</td>\n",
       "      <td>4.57</td>\n",
       "      <td>815.0</td>\n",
       "    </tr>\n",
       "    <tr>\n",
       "      <th>...</th>\n",
       "      <td>...</td>\n",
       "      <td>...</td>\n",
       "      <td>...</td>\n",
       "      <td>...</td>\n",
       "    </tr>\n",
       "    <tr>\n",
       "      <th>13992</th>\n",
       "      <td>13992</td>\n",
       "      <td>I38-1-49SA0005</td>\n",
       "      <td>6.22</td>\n",
       "      <td>892.0</td>\n",
       "    </tr>\n",
       "    <tr>\n",
       "      <th>13993</th>\n",
       "      <td>13993</td>\n",
       "      <td>I38-1-50SA0001</td>\n",
       "      <td>5.67</td>\n",
       "      <td>110.0</td>\n",
       "    </tr>\n",
       "    <tr>\n",
       "      <th>13994</th>\n",
       "      <td>13994</td>\n",
       "      <td>I38-1-50SA0003</td>\n",
       "      <td>5.43</td>\n",
       "      <td>173.0</td>\n",
       "    </tr>\n",
       "    <tr>\n",
       "      <th>13995</th>\n",
       "      <td>13995</td>\n",
       "      <td>I38-1-50SA0004</td>\n",
       "      <td>5.62</td>\n",
       "      <td>88.3</td>\n",
       "    </tr>\n",
       "    <tr>\n",
       "      <th>13996</th>\n",
       "      <td>13996</td>\n",
       "      <td>I38-1-50SA0005</td>\n",
       "      <td>5.67</td>\n",
       "      <td>69.6</td>\n",
       "    </tr>\n",
       "  </tbody>\n",
       "</table>\n",
       "<p>13997 rows × 4 columns</p>\n",
       "</div>"
      ],
      "text/plain": [
       "       Unnamed: 0       sample_code    ph  calcium\n",
       "0               0      AGD103SA0012  6.28   4230.0\n",
       "1               1      AGD103SA0018  6.06   4230.0\n",
       "2               2  AGD207-408SA0842  4.99    882.0\n",
       "3               3  AGD207-408SA0843  4.74    758.0\n",
       "4               4  AGD207-408SA0844  4.57    815.0\n",
       "...           ...               ...   ...      ...\n",
       "13992       13992    I38-1-49SA0005  6.22    892.0\n",
       "13993       13993    I38-1-50SA0001  5.67    110.0\n",
       "13994       13994    I38-1-50SA0003  5.43    173.0\n",
       "13995       13995    I38-1-50SA0004  5.62     88.3\n",
       "13996       13996    I38-1-50SA0005  5.67     69.6\n",
       "\n",
       "[13997 rows x 4 columns]"
      ]
     },
     "execution_count": 35,
     "metadata": {},
     "output_type": "execute_result"
    }
   ],
   "source": [
    "wetchem_df"
   ]
  },
  {
   "cell_type": "code",
   "execution_count": 36,
   "id": "63f59502",
   "metadata": {},
   "outputs": [],
   "source": [
    "high_val_filtered_df = pd.DataFrame()\n",
    "high_val_outliers_df = pd.DataFrame()\n",
    "\n",
    "low_val_filtered_df = pd.DataFrame()\n",
    "low_val_outliers_df = pd.DataFrame()\n"
   ]
  },
  {
   "cell_type": "code",
   "execution_count": 37,
   "id": "e8f320ae",
   "metadata": {},
   "outputs": [
    {
     "data": {
      "text/html": [
       "<div>\n",
       "<style scoped>\n",
       "    .dataframe tbody tr th:only-of-type {\n",
       "        vertical-align: middle;\n",
       "    }\n",
       "\n",
       "    .dataframe tbody tr th {\n",
       "        vertical-align: top;\n",
       "    }\n",
       "\n",
       "    .dataframe thead th {\n",
       "        text-align: right;\n",
       "    }\n",
       "</style>\n",
       "<table border=\"1\" class=\"dataframe\">\n",
       "  <thead>\n",
       "    <tr style=\"text-align: right;\">\n",
       "      <th></th>\n",
       "    </tr>\n",
       "  </thead>\n",
       "  <tbody>\n",
       "  </tbody>\n",
       "</table>\n",
       "</div>"
      ],
      "text/plain": [
       "Empty DataFrame\n",
       "Columns: []\n",
       "Index: []"
      ]
     },
     "execution_count": 37,
     "metadata": {},
     "output_type": "execute_result"
    }
   ],
   "source": [
    "high_val_filtered_df"
   ]
  },
  {
   "cell_type": "code",
   "execution_count": 38,
   "id": "0bdd5a01",
   "metadata": {
    "scrolled": true
   },
   "outputs": [
    {
     "name": "stdout",
     "output_type": "stream",
     "text": [
      "ph\n",
      "0.08999999999999986\n",
      "ph\n",
      "0.08999999999999986\n",
      "==========================\n",
      "==========================\n",
      "calcium\n",
      "350.0\n",
      "calcium\n",
      "350.0\n",
      "==========================\n",
      "==========================\n"
     ]
    }
   ],
   "source": [
    "for column in wetchem_df.columns:\n",
    "    if(column != \"sample_code\" and (column in all_chemicals)):\n",
    "        lower_outliers, no_outliers, upper_outliers = get_outliers(column)\n",
    "        if len(lower_outliers) > 4: \n",
    "            lower_quartile_gap,  upper_quartile_gap = get_gaps(upper_outliers[column].values, upper_outliers[column].values, column)\n",
    "            lv_filtered , lv_outliers = _filter(lower_outliers,element_deviations[column][\"lower_quartile_deviation\"], column, \"lower\")\n",
    "            hv_filtered, hv_outliers = _filter(upper_outliers,element_deviations[column][\"upper_quartile_deviation\"],column, \"upper\")\n",
    "            print(\"==========================\")\n",
    "        if len(upper_outliers) > 4: \n",
    "            high_val_filtered_df =   pd.concat([hv_filtered[['sample_code', column]], high_val_filtered_df])\n",
    "            high_val_outliers_df = pd.concat([hv_outliers[['sample_code', column]], high_val_outliers_df])\n",
    "            low_val_filtered_df = pd.concat([lv_filtered[['sample_code', column]], low_val_filtered_df])\n",
    "            low_val_outliers_df = pd.concat([lv_outliers[['sample_code', column]], low_val_outliers_df])\n",
    "            print(\"==========================\")\n",
    "        \n",
    "    "
   ]
  },
  {
   "cell_type": "raw",
   "id": "d99c2a41",
   "metadata": {
    "vscode": {
     "languageId": "raw"
    }
   },
   "source": [
    "element_deviations"
   ]
  },
  {
   "cell_type": "code",
   "execution_count": 39,
   "id": "65256043",
   "metadata": {},
   "outputs": [],
   "source": [
    "high_val_filtered_df = high_val_filtered_df.groupby(\"sample_code\").min()\n",
    "high_val_outliers_df = high_val_outliers_df.groupby(\"sample_code\").min()\n",
    "\n",
    "low_val_filtered_df = low_val_filtered_df.groupby(\"sample_code\").min()\n",
    "low_val_outliers_df = low_val_outliers_df.groupby(\"sample_code\").min()\n"
   ]
  },
  {
   "cell_type": "code",
   "execution_count": null,
   "id": "36db329e",
   "metadata": {},
   "outputs": [],
   "source": []
  },
  {
   "cell_type": "code",
   "execution_count": null,
   "id": "dc57a146",
   "metadata": {},
   "outputs": [],
   "source": []
  },
  {
   "cell_type": "code",
   "execution_count": null,
   "id": "3a7f9a69",
   "metadata": {},
   "outputs": [],
   "source": []
  },
  {
   "cell_type": "code",
   "execution_count": null,
   "id": "df90db0b",
   "metadata": {},
   "outputs": [],
   "source": []
  },
  {
   "cell_type": "code",
   "execution_count": null,
   "id": "aa5f7e35",
   "metadata": {},
   "outputs": [],
   "source": []
  },
  {
   "cell_type": "code",
   "execution_count": null,
   "id": "15192f13",
   "metadata": {},
   "outputs": [],
   "source": []
  },
  {
   "cell_type": "code",
   "execution_count": null,
   "id": "a7ee6b78",
   "metadata": {},
   "outputs": [],
   "source": []
  },
  {
   "cell_type": "code",
   "execution_count": null,
   "id": "1ee9af0d",
   "metadata": {},
   "outputs": [],
   "source": []
  },
  {
   "cell_type": "code",
   "execution_count": 40,
   "id": "e854a6a0",
   "metadata": {},
   "outputs": [
    {
     "data": {
      "text/html": [
       "<div>\n",
       "<style scoped>\n",
       "    .dataframe tbody tr th:only-of-type {\n",
       "        vertical-align: middle;\n",
       "    }\n",
       "\n",
       "    .dataframe tbody tr th {\n",
       "        vertical-align: top;\n",
       "    }\n",
       "\n",
       "    .dataframe thead th {\n",
       "        text-align: right;\n",
       "    }\n",
       "</style>\n",
       "<table border=\"1\" class=\"dataframe\">\n",
       "  <thead>\n",
       "    <tr style=\"text-align: right;\">\n",
       "      <th></th>\n",
       "      <th>calcium</th>\n",
       "      <th>ph</th>\n",
       "    </tr>\n",
       "    <tr>\n",
       "      <th>sample_code</th>\n",
       "      <th></th>\n",
       "      <th></th>\n",
       "    </tr>\n",
       "  </thead>\n",
       "  <tbody>\n",
       "    <tr>\n",
       "      <th>AGD207-408SA0872</th>\n",
       "      <td>6580.0</td>\n",
       "      <td>NaN</td>\n",
       "    </tr>\n",
       "    <tr>\n",
       "      <th>AGD207-408SA0880</th>\n",
       "      <td>NaN</td>\n",
       "      <td>7.99</td>\n",
       "    </tr>\n",
       "    <tr>\n",
       "      <th>AGD511SA0011</th>\n",
       "      <td>7010.0</td>\n",
       "      <td>NaN</td>\n",
       "    </tr>\n",
       "    <tr>\n",
       "      <th>AGD511SA0014</th>\n",
       "      <td>7210.0</td>\n",
       "      <td>NaN</td>\n",
       "    </tr>\n",
       "    <tr>\n",
       "      <th>AGD517-205SA0001</th>\n",
       "      <td>7400.0</td>\n",
       "      <td>NaN</td>\n",
       "    </tr>\n",
       "    <tr>\n",
       "      <th>...</th>\n",
       "      <td>...</td>\n",
       "      <td>...</td>\n",
       "    </tr>\n",
       "    <tr>\n",
       "      <th>FA907SA0017</th>\n",
       "      <td>6090.0</td>\n",
       "      <td>NaN</td>\n",
       "    </tr>\n",
       "    <tr>\n",
       "      <th>FA913SA0009</th>\n",
       "      <td>9190.0</td>\n",
       "      <td>NaN</td>\n",
       "    </tr>\n",
       "    <tr>\n",
       "      <th>FA913SA0010</th>\n",
       "      <td>7060.0</td>\n",
       "      <td>8.36</td>\n",
       "    </tr>\n",
       "    <tr>\n",
       "      <th>FA928SA0006</th>\n",
       "      <td>6090.0</td>\n",
       "      <td>NaN</td>\n",
       "    </tr>\n",
       "    <tr>\n",
       "      <th>FA933SA0003</th>\n",
       "      <td>6140.0</td>\n",
       "      <td>NaN</td>\n",
       "    </tr>\n",
       "  </tbody>\n",
       "</table>\n",
       "<p>1089 rows × 2 columns</p>\n",
       "</div>"
      ],
      "text/plain": [
       "                  calcium    ph\n",
       "sample_code                    \n",
       "AGD207-408SA0872   6580.0   NaN\n",
       "AGD207-408SA0880      NaN  7.99\n",
       "AGD511SA0011       7010.0   NaN\n",
       "AGD511SA0014       7210.0   NaN\n",
       "AGD517-205SA0001   7400.0   NaN\n",
       "...                   ...   ...\n",
       "FA907SA0017        6090.0   NaN\n",
       "FA913SA0009        9190.0   NaN\n",
       "FA913SA0010        7060.0  8.36\n",
       "FA928SA0006        6090.0   NaN\n",
       "FA933SA0003        6140.0   NaN\n",
       "\n",
       "[1089 rows x 2 columns]"
      ]
     },
     "execution_count": 40,
     "metadata": {},
     "output_type": "execute_result"
    }
   ],
   "source": [
    "high_val_filtered_df"
   ]
  },
  {
   "cell_type": "code",
   "execution_count": null,
   "id": "704108da",
   "metadata": {},
   "outputs": [],
   "source": [
    "\n"
   ]
  },
  {
   "cell_type": "code",
   "execution_count": null,
   "id": "a9fcf085",
   "metadata": {},
   "outputs": [],
   "source": []
  },
  {
   "cell_type": "code",
   "execution_count": 41,
   "id": "4bc8f61b",
   "metadata": {},
   "outputs": [],
   "source": [
    "# high_val_filtered_df.psi.max()"
   ]
  },
  {
   "cell_type": "code",
   "execution_count": 42,
   "id": "84dcd453",
   "metadata": {},
   "outputs": [],
   "source": [
    "# high_val_filtered_df = high_val_filtered_df.groupby(\"sample_code\", sort=True).min()\n",
    "# high_val_outliers_df = high_val_outliers_df.groupby(\"sample_code\", sort=True).min()\n",
    "\n",
    "# low_val_filtered_df = low_val_filtered_df.groupby(\"sample_code\", sort=True).min()\n",
    "# low_val_outliers_df = low_val_outliers_df.groupby(\"sample_code\", sort=True).min()\n",
    "\n",
    "# md_val_filtered_df = md_val_filtered_df.groupby(\"sample_code\", sort=True).min()\n",
    "# md_val_outliers_df = md_val_outliers_df.groupby(\"sample_code\", sort=True).min()"
   ]
  },
  {
   "cell_type": "code",
   "execution_count": 43,
   "id": "3c828633",
   "metadata": {},
   "outputs": [],
   "source": [
    "# high_val_filtered_df.psi.max()"
   ]
  },
  {
   "cell_type": "code",
   "execution_count": 44,
   "id": "b7be5171",
   "metadata": {},
   "outputs": [],
   "source": [
    "# high_val_filtered_df.replace(0,np.nan, inplace=True)\n",
    "# high_val_outliers_df.replace(0,np.nan, inplace=True)\n",
    "\n",
    "# low_val_filtered_df.replace(0,np.nan, inplace=True)\n",
    "# low_val_outliers_df.replace(0,np.nan, inplace=True)\n",
    "\n",
    "# md_val_filtered_df.replace(0,np.nan, inplace=True)\n",
    "# md_val_outliers_df.replace(0,np.nan, inplace=True)"
   ]
  },
  {
   "cell_type": "code",
   "execution_count": 45,
   "id": "6c83cd2d",
   "metadata": {},
   "outputs": [],
   "source": [
    "# high_val_filtered_df.psi.max()"
   ]
  },
  {
   "cell_type": "code",
   "execution_count": 46,
   "id": "1fea6b56",
   "metadata": {},
   "outputs": [],
   "source": [
    "high_val_filtered_df = high_val_filtered_df.apply(pd.to_numeric)\n",
    "high_val_outliers_df = high_val_outliers_df.apply(pd.to_numeric)\n",
    "\n",
    "low_val_filtered_df = low_val_filtered_df.apply(pd.to_numeric)\n",
    "low_val_outliers_df = low_val_outliers_df.apply(pd.to_numeric)\n"
   ]
  },
  {
   "cell_type": "code",
   "execution_count": 47,
   "id": "5d7ad1e6",
   "metadata": {},
   "outputs": [
    {
     "data": {
      "text/html": [
       "<div>\n",
       "<style scoped>\n",
       "    .dataframe tbody tr th:only-of-type {\n",
       "        vertical-align: middle;\n",
       "    }\n",
       "\n",
       "    .dataframe tbody tr th {\n",
       "        vertical-align: top;\n",
       "    }\n",
       "\n",
       "    .dataframe thead th {\n",
       "        text-align: right;\n",
       "    }\n",
       "</style>\n",
       "<table border=\"1\" class=\"dataframe\">\n",
       "  <thead>\n",
       "    <tr style=\"text-align: right;\">\n",
       "      <th></th>\n",
       "      <th>calcium</th>\n",
       "      <th>ph</th>\n",
       "    </tr>\n",
       "    <tr>\n",
       "      <th>sample_code</th>\n",
       "      <th></th>\n",
       "      <th></th>\n",
       "    </tr>\n",
       "  </thead>\n",
       "  <tbody>\n",
       "    <tr>\n",
       "      <th>AGD517SA0030</th>\n",
       "      <td>18300.0</td>\n",
       "      <td>NaN</td>\n",
       "    </tr>\n",
       "    <tr>\n",
       "      <th>AGD518SA0001</th>\n",
       "      <td>NaN</td>\n",
       "      <td>9.30</td>\n",
       "    </tr>\n",
       "    <tr>\n",
       "      <th>AGD710-14SA0001</th>\n",
       "      <td>12500.0</td>\n",
       "      <td>NaN</td>\n",
       "    </tr>\n",
       "    <tr>\n",
       "      <th>AGD710-16SA0001</th>\n",
       "      <td>19000.0</td>\n",
       "      <td>NaN</td>\n",
       "    </tr>\n",
       "    <tr>\n",
       "      <th>AGD710-20SA0001</th>\n",
       "      <td>24800.0</td>\n",
       "      <td>NaN</td>\n",
       "    </tr>\n",
       "    <tr>\n",
       "      <th>...</th>\n",
       "      <td>...</td>\n",
       "      <td>...</td>\n",
       "    </tr>\n",
       "    <tr>\n",
       "      <th>FA534SA0007</th>\n",
       "      <td>NaN</td>\n",
       "      <td>10.20</td>\n",
       "    </tr>\n",
       "    <tr>\n",
       "      <th>FA539-63SA0001</th>\n",
       "      <td>13800.0</td>\n",
       "      <td>NaN</td>\n",
       "    </tr>\n",
       "    <tr>\n",
       "      <th>FA539SA0139</th>\n",
       "      <td>NaN</td>\n",
       "      <td>10.30</td>\n",
       "    </tr>\n",
       "    <tr>\n",
       "      <th>FA702SA0005</th>\n",
       "      <td>NaN</td>\n",
       "      <td>10.60</td>\n",
       "    </tr>\n",
       "    <tr>\n",
       "      <th>FA702SA0009</th>\n",
       "      <td>NaN</td>\n",
       "      <td>9.65</td>\n",
       "    </tr>\n",
       "  </tbody>\n",
       "</table>\n",
       "<p>81 rows × 2 columns</p>\n",
       "</div>"
      ],
      "text/plain": [
       "                 calcium     ph\n",
       "sample_code                    \n",
       "AGD517SA0030     18300.0    NaN\n",
       "AGD518SA0001         NaN   9.30\n",
       "AGD710-14SA0001  12500.0    NaN\n",
       "AGD710-16SA0001  19000.0    NaN\n",
       "AGD710-20SA0001  24800.0    NaN\n",
       "...                  ...    ...\n",
       "FA534SA0007          NaN  10.20\n",
       "FA539-63SA0001   13800.0    NaN\n",
       "FA539SA0139          NaN  10.30\n",
       "FA702SA0005          NaN  10.60\n",
       "FA702SA0009          NaN   9.65\n",
       "\n",
       "[81 rows x 2 columns]"
      ]
     },
     "execution_count": 47,
     "metadata": {},
     "output_type": "execute_result"
    }
   ],
   "source": [
    "high_val_outliers_df"
   ]
  },
  {
   "cell_type": "code",
   "execution_count": 48,
   "id": "5cda81fa",
   "metadata": {},
   "outputs": [],
   "source": [
    "high_val_filtered_df.to_csv(\"/home/tom/DSML125/DSML87/outputFiles/hv_filtered.csv\")\n",
    "high_val_outliers_df.to_csv(\"/home/tom/DSML125/DSML87/outputFiles/hv_outliers.csv\")\n",
    "\n",
    "low_val_filtered_df.to_csv(\"/home/tom/DSML125/DSML87/outputFiles/lv_filtered.csv\")\n",
    "low_val_outliers_df.to_csv(\"/home/tom/DSML125/DSML87/outputFiles/lv_outliers.csv\")\n",
    "\n"
   ]
  },
  {
   "cell_type": "code",
   "execution_count": null,
   "id": "0a38d9cc",
   "metadata": {},
   "outputs": [],
   "source": []
  },
  {
   "cell_type": "code",
   "execution_count": null,
   "id": "847395e2",
   "metadata": {},
   "outputs": [],
   "source": []
  },
  {
   "cell_type": "code",
   "execution_count": null,
   "id": "810c4348",
   "metadata": {},
   "outputs": [],
   "source": []
  },
  {
   "cell_type": "code",
   "execution_count": null,
   "id": "eedb550d",
   "metadata": {},
   "outputs": [],
   "source": []
  },
  {
   "cell_type": "code",
   "execution_count": 49,
   "id": "4573a8d9",
   "metadata": {},
   "outputs": [],
   "source": [
    "# import seaborn as sns\n",
    "# for chemical in wetchem_df.columns:\n",
    "#     sns.set_theme(style=\"whitegrid\")\n",
    "#     if(chemical in [x for x in wetchem_df.columns if x in all_chemicals]):\n",
    "#         print(chemical)\n",
    "#         fig, axes = plt.subplots(2, 3, figsize=(15, 5), sharey=True)\n",
    "#         fig.suptitle(chemical)\n",
    "        \n",
    "#         lo = wetchem_df[chemical].min()\n",
    "#         hi = wetchem_df[chemical].max()\n",
    "#         print(lo)\n",
    "#         print(hi)\n",
    "\n",
    "#         sns.boxplot(ax=axes[0,0], x=wetchem_df[chemical])\n",
    "#         axes[0,0].set_title(f\"Uncleaned Wetchem Data n=0\")\n",
    "#         plt.clf()\n",
    "\n",
    "#         plt.xlim(lo, hi)\n",
    "#         sns.boxplot(ax=axes[0,2], x=high_val_filtered_df[chemical])\n",
    "#         axes[0,2].set_title(f\"High Gap Size Filter n={len(wetchem_df[chemical].dropna().values) - len(high_val_filtered_df[chemical].dropna().values)}\")\n",
    "#         plt.clf()\n",
    "#         plt.xlim(lo, hi)\n",
    "#         sns.boxplot(ax=axes[1,0], x=low_val_filtered_df[chemical])\n",
    "#         axes[1,0].set_title(f\"Low Gap Size Filter high_val_filtered_df n={len(wetchem_df[chemical].dropna().values) - len(low_val_filtered_df[chemical].dropna().values)}\")\n",
    "#         plt.clf()\n",
    "#         plt.xlim(lo, hi)\n",
    "#         sns.boxplot(ax=axes[1,1], x=md_val_filtered_df[chemical])\n",
    "#         axes[1,1].set_title(f\"Median Gap Size Outliers n={len(wetchem_df[chemical].dropna().values) - len(md_val_filtered_df[chemical].dropna().values)}\")\n",
    "#         plt.clf()\n",
    "#         os.makedirs(f\"/home/tom/DSML125/DSML87/outputFiles/boxplots\", exist_ok=True)\n",
    "#         plt.savefig(f\"/home/tom/DSML125/DSML87/outputFiles/boxplots/{chemical}\")"
   ]
  }
 ],
 "metadata": {
  "kernelspec": {
   "display_name": "Python 3 (ipykernel)",
   "language": "python",
   "name": "python3"
  },
  "language_info": {
   "codemirror_mode": {
    "name": "ipython",
    "version": 3
   },
   "file_extension": ".py",
   "mimetype": "text/x-python",
   "name": "python",
   "nbconvert_exporter": "python",
   "pygments_lexer": "ipython3",
   "version": "3.10.9"
  }
 },
 "nbformat": 4,
 "nbformat_minor": 5
}
